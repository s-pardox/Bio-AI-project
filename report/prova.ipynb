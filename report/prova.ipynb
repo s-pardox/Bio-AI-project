{
 "cells": [
  {
   "cell_type": "code",
   "execution_count": 1,
   "metadata": {},
   "outputs": [],
   "source": [
    "import wandb\n",
    "import csv\n",
    "import math\n",
    "import pandas as pd\n",
    "import matplotlib.pyplot as plt\n",
    "import numpy as np\n",
    "import seaborn as sns"
   ]
  },
  {
   "cell_type": "code",
   "execution_count": 17,
   "metadata": {},
   "outputs": [],
   "source": [
    "def getAlgTag(group:str, config:dict):\n",
    "\n",
    "    final = {}\n",
    "\n",
    "    if 'ga' in group.lower():\n",
    "\n",
    "        if (config['crossover_rate'] >= 0.95) and (config['mutation_rate'] <= 0.05):\n",
    "            final['Name'] = 'GA-Exploitative'\n",
    "            final['Tag'] = 'Exploitative'\n",
    "        elif (0.85 <= config['crossover_rate'] < 0.95) and (0.05 < config['mutation_rate'] <= 0.1):\n",
    "            final['Name'] = 'Ga'\n",
    "            final['Tag'] = 'Neutral'\n",
    "        else:\n",
    "            final['Name'] = 'GA-Explorative'\n",
    "            final['Tag'] = 'Explorative'\n",
    "\n",
    "    elif 'de' in group.lower():\n",
    "\n",
    "        if (config['crossover_rate'] >= 0.95) and (config['mutation_rate'] <= 0.05):\n",
    "            final['Name'] = 'DE-Exploitative'\n",
    "            final['Tag'] = 'Exploitative'\n",
    "        elif (0.85 <= config['crossover_rate'] < 0.95) and (0.05 < config['mutation_rate'] <= 0.1):\n",
    "            final['Name'] = 'DE'\n",
    "            final['Tag'] = 'Neutral'\n",
    "        else:\n",
    "            final['Name'] = 'DE-Explorative'\n",
    "            final['Tag'] = 'Explorative'\n",
    "\n",
    "    elif 'es' in group.lower() and 'cma' not in group.lower():\n",
    "\n",
    "        if 'plus' in group.lower():\n",
    "            final['Name'] = 'ES-plus'\n",
    "            final['Tag'] = 'Exploitative'\n",
    "        else:\n",
    "            final['Name'] = 'ES-comma'\n",
    "            final['Tag'] = 'Explorative'\n",
    "\n",
    "    elif 'pso' in group.lower():\n",
    "\n",
    "        if config['cognitive_v'] == 0.0:\n",
    "            final['Name'] = 'PSO-social'\n",
    "            final['Tag'] = 'Exploitative'\n",
    "        elif config['social_v'] == 0.0:\n",
    "            final['Name'] = 'PSO-cognitive'\n",
    "            final['Tag'] = 'Explorative'\n",
    "        else:\n",
    "            final['Name'] = 'PSO'\n",
    "            final['Tag'] = 'Neutral'\n",
    "\n",
    "    else:\n",
    "        final['Name'] = 'CMA-ES'\n",
    "        final['Tag'] = 'Neutral'\n",
    "\n",
    "    return final"
   ]
  },
  {
   "cell_type": "code",
   "execution_count": 13,
   "metadata": {},
   "outputs": [],
   "source": [
    "def wandb_api(group:str):\n",
    "\n",
    "    #WandB API call\n",
    "    api = wandb.Api()\n",
    "    runs = api.runs(\"bio-ai-2022/AutoGL-EA\", filters={\"group\":group})\n",
    "\n",
    "    #store experiment configuration\n",
    "    config = runs[0].config\n",
    "\n",
    "    #store the best test accuracy within the group\n",
    "    #store the multiple DFs corresponding to different runs\n",
    "    best_test_acc = 0\n",
    "    list_df_original = []\n",
    "    for run in runs:\n",
    "        list_df_original.append(run.history())\n",
    "        if run.summary['test_acc:'] > best_test_acc:\n",
    "            best_test_acc = run.summary['test_acc:']\n",
    "\n",
    "    #delete unuseful rows and columns\n",
    "    list_df_final = []\n",
    "    for df in list_df_original:\n",
    "        df_final = df.iloc[:15, [0, 9, 7, 11]]\n",
    "\n",
    "        if 'CMA' in group:\n",
    "            df_final['mean_fit'] = df_final['mean_fit'].abs()\n",
    "\n",
    "        df_final = df_final.rename(columns={\"mean_fit\": \"avg_fit\"})\n",
    "        list_df_final.append(df_final)\n",
    "\n",
    "    #merge the multiple DFs into one, averaging element-wise values\n",
    "    df_concat = pd.concat(list_df_final)\n",
    "    df_means = df_concat.groupby(df_concat.index).mean()\n",
    "    df_means.index = df_means.index + 1\n",
    "\n",
    "    #create qualitative variable\n",
    "    alg_tag = getAlgTag(group, config)\n",
    "    alg_tag['Accuracy'] = best_test_acc\n",
    "\n",
    "    return df_means, alg_tag"
   ]
  },
  {
   "cell_type": "code",
   "execution_count": 19,
   "metadata": {},
   "outputs": [
    {
     "data": {
      "text/html": [
       "<div>\n",
       "<style scoped>\n",
       "    .dataframe tbody tr th:only-of-type {\n",
       "        vertical-align: middle;\n",
       "    }\n",
       "\n",
       "    .dataframe tbody tr th {\n",
       "        vertical-align: top;\n",
       "    }\n",
       "\n",
       "    .dataframe thead th {\n",
       "        text-align: right;\n",
       "    }\n",
       "</style>\n",
       "<table border=\"1\" class=\"dataframe\">\n",
       "  <thead>\n",
       "    <tr style=\"text-align: right;\">\n",
       "      <th></th>\n",
       "      <th>std_fit</th>\n",
       "      <th>avg_fit</th>\n",
       "      <th>std_div</th>\n",
       "      <th>avg_div</th>\n",
       "    </tr>\n",
       "  </thead>\n",
       "  <tbody>\n",
       "    <tr>\n",
       "      <th>1</th>\n",
       "      <td>0.026530</td>\n",
       "      <td>0.762053</td>\n",
       "      <td>45.729727</td>\n",
       "      <td>68.121349</td>\n",
       "    </tr>\n",
       "    <tr>\n",
       "      <th>2</th>\n",
       "      <td>0.103435</td>\n",
       "      <td>0.740773</td>\n",
       "      <td>94.337346</td>\n",
       "      <td>116.857523</td>\n",
       "    </tr>\n",
       "    <tr>\n",
       "      <th>3</th>\n",
       "      <td>0.166103</td>\n",
       "      <td>0.727000</td>\n",
       "      <td>132.869240</td>\n",
       "      <td>170.891777</td>\n",
       "    </tr>\n",
       "    <tr>\n",
       "      <th>4</th>\n",
       "      <td>0.153090</td>\n",
       "      <td>0.728560</td>\n",
       "      <td>166.490002</td>\n",
       "      <td>198.530063</td>\n",
       "    </tr>\n",
       "    <tr>\n",
       "      <th>5</th>\n",
       "      <td>0.147849</td>\n",
       "      <td>0.722840</td>\n",
       "      <td>222.342198</td>\n",
       "      <td>247.760070</td>\n",
       "    </tr>\n",
       "    <tr>\n",
       "      <th>6</th>\n",
       "      <td>0.143366</td>\n",
       "      <td>0.736547</td>\n",
       "      <td>300.290668</td>\n",
       "      <td>301.470955</td>\n",
       "    </tr>\n",
       "    <tr>\n",
       "      <th>7</th>\n",
       "      <td>0.206097</td>\n",
       "      <td>0.684480</td>\n",
       "      <td>421.543250</td>\n",
       "      <td>373.739493</td>\n",
       "    </tr>\n",
       "    <tr>\n",
       "      <th>8</th>\n",
       "      <td>0.205112</td>\n",
       "      <td>0.677507</td>\n",
       "      <td>303.043096</td>\n",
       "      <td>339.533962</td>\n",
       "    </tr>\n",
       "    <tr>\n",
       "      <th>9</th>\n",
       "      <td>0.200291</td>\n",
       "      <td>0.692693</td>\n",
       "      <td>344.199148</td>\n",
       "      <td>355.842917</td>\n",
       "    </tr>\n",
       "    <tr>\n",
       "      <th>10</th>\n",
       "      <td>0.181478</td>\n",
       "      <td>0.708853</td>\n",
       "      <td>309.027872</td>\n",
       "      <td>328.463921</td>\n",
       "    </tr>\n",
       "    <tr>\n",
       "      <th>11</th>\n",
       "      <td>0.164804</td>\n",
       "      <td>0.712587</td>\n",
       "      <td>585.609319</td>\n",
       "      <td>525.774443</td>\n",
       "    </tr>\n",
       "    <tr>\n",
       "      <th>12</th>\n",
       "      <td>0.218293</td>\n",
       "      <td>0.681213</td>\n",
       "      <td>555.762441</td>\n",
       "      <td>555.600080</td>\n",
       "    </tr>\n",
       "    <tr>\n",
       "      <th>13</th>\n",
       "      <td>0.200021</td>\n",
       "      <td>0.694147</td>\n",
       "      <td>685.276576</td>\n",
       "      <td>584.553303</td>\n",
       "    </tr>\n",
       "    <tr>\n",
       "      <th>14</th>\n",
       "      <td>0.196037</td>\n",
       "      <td>0.696480</td>\n",
       "      <td>629.729444</td>\n",
       "      <td>520.431887</td>\n",
       "    </tr>\n",
       "    <tr>\n",
       "      <th>15</th>\n",
       "      <td>0.158137</td>\n",
       "      <td>0.726853</td>\n",
       "      <td>631.264846</td>\n",
       "      <td>551.704070</td>\n",
       "    </tr>\n",
       "  </tbody>\n",
       "</table>\n",
       "</div>"
      ],
      "text/plain": [
       "     std_fit   avg_fit     std_div     avg_div\n",
       "1   0.026530  0.762053   45.729727   68.121349\n",
       "2   0.103435  0.740773   94.337346  116.857523\n",
       "3   0.166103  0.727000  132.869240  170.891777\n",
       "4   0.153090  0.728560  166.490002  198.530063\n",
       "5   0.147849  0.722840  222.342198  247.760070\n",
       "6   0.143366  0.736547  300.290668  301.470955\n",
       "7   0.206097  0.684480  421.543250  373.739493\n",
       "8   0.205112  0.677507  303.043096  339.533962\n",
       "9   0.200291  0.692693  344.199148  355.842917\n",
       "10  0.181478  0.708853  309.027872  328.463921\n",
       "11  0.164804  0.712587  585.609319  525.774443\n",
       "12  0.218293  0.681213  555.762441  555.600080\n",
       "13  0.200021  0.694147  685.276576  584.553303\n",
       "14  0.196037  0.696480  629.729444  520.431887\n",
       "15  0.158137  0.726853  631.264846  551.704070"
      ]
     },
     "metadata": {},
     "output_type": "display_data"
    },
    {
     "name": "stdout",
     "output_type": "stream",
     "text": [
      "{'Name': 'PSO-social', 'Tag': 'Exploitative', 'Accuracy': 0.814}\n"
     ]
    }
   ],
   "source": [
    "df_means, alg_tag = wandb_api('CORA-GCN_PSO-Social')\n",
    "display(df_means)\n",
    "print(alg_tag)"
   ]
  },
  {
   "cell_type": "code",
   "execution_count": 92,
   "metadata": {},
   "outputs": [],
   "source": [
    "run_names = ['Ste_test_CORA-GCN_GA-Exploitative', 'CORA-GCN_GA-Neutral', 'CORA-GCN_GA-Explorative', 'CORA-GCN_DE-Exploitative', 'CORA-GCN_DE-Neutral',\n",
    "'CORA-GCN_DE-Explorative', 'CORA-GCN_ES-comma', 'CORA-GCN_ES-plus', 'CORA-GCN_CMA-ES', 'CORA-GCN_PSO-Social', 'CORA-GCN_PSO', 'CORA-GCN_PSO-Cognitive']"
   ]
  },
  {
   "cell_type": "code",
   "execution_count": null,
   "metadata": {},
   "outputs": [],
   "source": [
    "for group in ['CORA-GCN_CMA-ES', 'CORA-GCN_PSO-Social']:\n",
    "    api = wandb.Api()\n",
    "    runs = api.runs(\"bio-ai-2022/AutoGL-EA\", filters={\"group\":group})\n",
    "    print(\"Configuration: \", runs[0].config)\n",
    "    for i, run in enumerate(runs):\n",
    "        display(run.history())"
   ]
  },
  {
   "cell_type": "code",
   "execution_count": 20,
   "metadata": {},
   "outputs": [
    {
     "name": "stdout",
     "output_type": "stream",
     "text": [
      "1 a\n",
      "2 b\n",
      "3 c\n"
     ]
    }
   ],
   "source": [
    "numbers = [1,2,3]\n",
    "letters = ['a', 'b', 'c']\n",
    "\n",
    "for n,l in zip(numbers, letters):\n",
    "    print(n, l)"
   ]
  },
  {
   "cell_type": "code",
   "execution_count": 85,
   "metadata": {},
   "outputs": [
    {
     "data": {
      "image/png": "[encoded data removed]",
      "text/plain": [
       "<Figure size 900x450 with 1 Axes>"
      ]
     },
     "metadata": {
      "needs_background": "light"
     },
     "output_type": "display_data"
    }
   ],
   "source": [
    "import wandb\n",
    "import csv\n",
    "\n",
    "import pandas as pd\n",
    "import matplotlib.pyplot as plt\n",
    "import numpy as np\n",
    "import seaborn as sns\n",
    "\n",
    "\n",
    "\"\"\"\n",
    "This file should be executed after the 5 runs for each of the 12 EA considered. Then repeat this file execution for each Dataset that\n",
    "has been taken in consideration, and for each GNN model.\n",
    "\n",
    "INPUT\n",
    "    - a list of Group Names, which were given as input to WandB, each one representing an experiment, performed internally 5 times.\n",
    "\n",
    "\n",
    "OUTPUT\n",
    "    - 12 single plots, each one averaged over 5 runs, representing the Accuracy vs Diversity curves of the EA performed;\n",
    "    - 1 global plot, representing the overall comparison of the 12 EA in terms of Test Accuracy, where each algorithm is \n",
    "      categorized as: Exploitative-Explorative-Neutral, depending on its specific EA hyperparameters. \n",
    "\"\"\"\n",
    "\n",
    "\n",
    "def getAlgTag(group:str, config:dict):\n",
    "\n",
    "    final = {}\n",
    "\n",
    "    if 'ga' in group.lower():\n",
    "\n",
    "        if (config['crossover_rate'] >= 0.95) and (config['mutation_rate'] <= 0.05):\n",
    "            final['Name'] = 'GA-Exploitative'\n",
    "            final['Tag'] = 'Exploitative'\n",
    "        elif (0.85 <= config['crossover_rate'] < 0.95) and (0.05 < config['mutation_rate'] <= 0.1):\n",
    "            final['Name'] = 'Ga'\n",
    "            final['Tag'] = 'Neutral'\n",
    "        else:\n",
    "            final['Name'] = 'GA-Exlporative'\n",
    "            final['Tag'] = 'Explorative'\n",
    "\n",
    "    elif 'de' in group.lower():\n",
    "\n",
    "        if (config['crossover_rate'] >= 0.95) and (config['mutation_rate'] <= 0.05):\n",
    "            final['Name'] = 'DE-Exploitative'\n",
    "            final['Tag'] = 'Exploitative'\n",
    "        elif (0.85 <= config['crossover_rate'] < 0.95) and (0.05 < config['mutation_rate'] <= 0.1):\n",
    "            final['Name'] = 'DE'\n",
    "            final['Tag'] = 'Neutral'\n",
    "        else:\n",
    "            final['Name'] = 'DE-Explorative'\n",
    "            final['Tag'] = 'Explorative'\n",
    "\n",
    "    elif 'es' in group.lower() and 'cma' not in group.lower():\n",
    "\n",
    "        if 'plus' in group.lower():\n",
    "            final['Name'] = 'ES-plus'\n",
    "            final['Tag'] = 'Exploitative'\n",
    "        else:\n",
    "            final['Name'] = 'ES-comma'\n",
    "            final['Tag'] = 'Explorative'\n",
    "\n",
    "    elif 'pso' in group.lower():\n",
    "\n",
    "        if config['cognitive_v'] == 0.0:\n",
    "            final['Name'] = 'PSO-social'\n",
    "            final['Tag'] = 'Exploitative'\n",
    "        elif config['social_v'] == 0.0:\n",
    "            final['Name'] = 'PSO-cognitive'\n",
    "            final['Tag'] = 'Explorative'\n",
    "        else:\n",
    "            final['Name'] = 'PSO'\n",
    "            final['Tag'] = 'Neutral'\n",
    "\n",
    "    else:\n",
    "\n",
    "        final['Name'] = 'CMA-ES'\n",
    "        final['Tag'] = 'Neutral'\n",
    "\n",
    "    return final\n",
    "\n",
    "\n",
    "def wandb_api(group:str):\n",
    "\n",
    "    #WandB API call\n",
    "    api = wandb.Api()\n",
    "    runs = api.runs(\"bio-ai-2022/AutoGL-EA\", filters={\"group\":group})\n",
    "\n",
    "    #store experiment configuration\n",
    "    config = runs[0].config\n",
    "\n",
    "    #store the best test accuracy within the group\n",
    "    #store the multiple DFs corresponding to different runs\n",
    "    best_test_acc = 0\n",
    "    list_df_original = []\n",
    "    for run in runs:\n",
    "        list_df_original.append(run.history())\n",
    "        if run.summary['test_acc:'] > best_test_acc:\n",
    "            best_test_acc = run.summary['test_acc:']\n",
    "\n",
    "    #delete unuseful rows and columns\n",
    "    list_df_final = []\n",
    "    for df in list_df_original:\n",
    "        df_final = df.iloc[:15, [0, 9, 7, 11]]\n",
    "\n",
    "        if 'CMA' in group:\n",
    "            df_final['mean_fit'] = df_final['mean_fit'].abs()\n",
    "\n",
    "        df_final = df_final.rename(columns={\"mean_fit\": \"avg_fit\"})\n",
    "        list_df_final.append(df_final)\n",
    "\n",
    "    #merge the multiple DFs into one, averaging element-wise values\n",
    "    df_concat = pd.concat(list_df_final)\n",
    "    df_means = df_concat.groupby(df_concat.index).mean()\n",
    "    df_means.index = df_means.index + 1\n",
    "\n",
    "    #create qualitative variable\n",
    "    alg_tag = getAlgTag(group, config)\n",
    "    alg_tag['Accuracy'] = best_test_acc\n",
    "\n",
    "    return df_means, alg_tag\n",
    "\n",
    "\n",
    "def plot_acc_div(alg_list:list, run_names:list, title:str):\n",
    "\n",
    "    n_cols = 3\n",
    "    n_rows = 4\n",
    "\n",
    "    fig, axes = plt.subplots(n_cols, n_rows, figsize=(32, 18), dpi=50)\n",
    "    plt.subplots_adjust(wspace=0.25, hspace=0.4)\n",
    "\n",
    "    #alg_list[count].plot(ax=axes[r,c])\n",
    "\n",
    "    count=0\n",
    "    for r in range(n_rows):\n",
    "        for c in range(n_cols):\n",
    "\n",
    "            df = alg_list[count]\n",
    "            group = run_names[count]\n",
    "\n",
    "            x = df.index\n",
    "            y1 = df.avg_fit\n",
    "            y2 = df.avg_div\n",
    "\n",
    "            axes[r,c].plot(x, y1, color=\"tab:red\")\n",
    "            axes[r,c].fill_between(x, y1 + (df.std_fit*0.2), y1 - (df.std_fit*0.2), alpha = 0.2, color=\"tab:red\")\n",
    "\n",
    "            ax2 = axes[r,c].twinx()\n",
    "            ax2.plot(x, y2, color=\"tab:blue\")\n",
    "            ax2.fill_between(x, y2 + (df.std_div*0.1), y2 - (df.std_div*0.1), alpha = 0.2, color=\"tab:blue\")\n",
    "\n",
    "            # ax1 (left y axis)\n",
    "            axes[r,c].set_xlabel(\"Generations\", fontsize=20)\n",
    "            axes[r,c].set_ylabel(\"Accuracy\", color=\"tab:red\", fontsize=20)\n",
    "            axes[r,c].tick_params(axis=\"y\", rotation=0, labelcolor=\"tab:red\")\n",
    "\n",
    "            # ax2 (right Y axis)\n",
    "            ax2.set_ylabel(\"Diversity\", color=\"tab:blue\", fontsize=20)\n",
    "            ax2.tick_params(axis=\"y\", labelcolor=\"tab:blue\")\n",
    "            ax2.set_title(\n",
    "                \"{group} - Accuracy vs Diversity\".format(group=group), fontsize=20\n",
    "            )\n",
    "            ax2.set_xticks(np.arange(1, len(x) + 1, 1))\n",
    "            ax2.set_xticklabels(x[::1], rotation=90, fontdict={\"fontsize\": 10})\n",
    "\n",
    "            count+=1\n",
    "\n",
    "    plt.savefig('{group}.png'.format(group=title))\n",
    "    plt.show()\n",
    "\n",
    "    return\n",
    "\n",
    "\n",
    "def comparison_plot(alg_tags:list, title:str):\n",
    "\n",
    "    df = pd.DataFrame(alg_tags)\n",
    "    df.sort_values(by='Accuracy', ascending=False, inplace=True)\n",
    "\n",
    "    labels = df.Tag.unique()\n",
    "\n",
    "    x = np.arange(len(labels))\n",
    "    width = 0.1\n",
    "\n",
    "    fig, ax = plt.subplots(figsize=(18,9), dpi=50)\n",
    "\n",
    "    for i, tag in enumerate(labels):\n",
    "        df_small = df.loc[df.Tag == tag, :]\n",
    "        count = 0\n",
    "        for alg in df_small.values:\n",
    "            if count == 0:\n",
    "                rect1 = ax.bar(x[i] - 1.5*width, alg[2], width, label=alg[0])\n",
    "                plt.text(x[i] - 1.5*width, alg[2]+0.0005, s = alg[0], horizontalalignment='left', fontsize='medium')\n",
    "            elif count == 1:\n",
    "                rect2 = ax.bar(x[i] - width/2, alg[2], width, label=alg[0])\n",
    "                plt.text(x[i] - width/2, alg[2]+0.0005, s = alg[0], horizontalalignment='left', fontsize='medium')\n",
    "            elif count == 2:\n",
    "                rect3 = ax.bar(x[i] + width/2, alg[2], width, label=alg[0])\n",
    "                plt.text(x[i] + width/2, alg[2]+0.0005, s = alg[0], horizontalalignment='left', fontsize='medium')\n",
    "            else:\n",
    "                rect4 = ax.bar(x[i] + 1.5*width, alg[2], width, label=alg[0])\n",
    "                plt.text(x[i] + 1.5*width, alg[2]+0.0005, s = alg[0], horizontalalignment='left', fontsize='medium')\n",
    "            count += 1\n",
    "\n",
    "    # Add some text for labels, title and custom x-axis tick labels, etc.\n",
    "    ax.set_xlabel('Algorithm Aprroach')\n",
    "    ax.set_ylabel('Accuracy')\n",
    "    ax.set_title(\"Cora Dataset, GCN problem : Explorative vs Neutral vs Exploitative\", fontsize=18)\n",
    "    ax.set_xticks(x, labels)\n",
    "    ax.set_ylim(0.78, 0.83)\n",
    "    ax.legend()\n",
    "\n",
    "    fig.tight_layout()\n",
    "\n",
    "    plt.savefig('comparison_{group}.png'.format(group=title))\n",
    "    plt.show()\n",
    "\n",
    "    \"\"\"# Data preparation\n",
    "    # Create as many colors as there are unique df['Name']\n",
    "    categories = df['Name']\n",
    "    colors = [plt.cm.tab10(i/float(len(categories)-1)) for i in range(len(categories))]\n",
    "\n",
    "    # Draw Plot for Each Category\n",
    "    plt.figure(figsize=(24, 10), dpi=72, facecolor='w', edgecolor='k')\n",
    "    for i, category in enumerate(categories):\n",
    "        plt.scatter('Tag', 'Accuracy', \n",
    "                    data=df.loc[df.Name==category, :], \n",
    "                    s=50, c=np.array(colors[i]).reshape((1,4)), label=str(category))\n",
    "        plt.text(x = df.Tag[i], y = df.Accuracy[i]+0.0005, s = category, horizontalalignment='center', fontsize='medium')\n",
    "        \n",
    "\n",
    "\n",
    "    # Decorations\n",
    "    plt.gca().set(xlabel='Algorithm Aprroach', ylabel='Accuracy')\n",
    "    plt.legend(loc='upper center', bbox_to_anchor=(0.5, 1.05), ncol=6, fancybox=True, shadow=True)\n",
    "    plt.xticks(fontsize=12); plt.yticks(fontsize=12)\n",
    "    plt.title(\"Cora Dataset, GCN problem : Explorative vs Neutral vs Exploitative\", fontsize=18, x=0.5, y=1.1)\n",
    "    plt.savefig('comparison_{group}.png'.format(group=title))\n",
    "    plt.show()\"\"\"\n",
    "\n",
    "    return \n",
    "\n",
    "def save_best_decoded_individual(group_name:str, test_acc:int, trainer:dict, model:dict):\n",
    "\n",
    "    final = {\"Test_Acc\": test_acc}\n",
    "    final.update(trainer)\n",
    "    final.update(model)\n",
    "\n",
    "    final = {'early_stopping' if k == 'early_stopping_round' else k:v for k,v in final.items()}\n",
    "    final = {'hidden_nodes' if k == 'hidden' else k:v for k,v in final.items()}\n",
    "    final['hidden_nodes'] = final['hidden_nodes'][0]\n",
    "\n",
    "    with open('{name}.csv'.format(name=group_name), \"a\", newline='') as f:\n",
    "        writer = csv.DictWriter(f, fieldnames=final.keys())\n",
    "        writer.writeheader()\n",
    "        writer.writerow(final)\n",
    "\n",
    "    return\n",
    "\n",
    "\n",
    "def main(run_names:list()):\n",
    "\n",
    "    \"\"\"\n",
    "    Example of the input: \n",
    "        run_names = ['GA Test - Neutral Setting', 'ES-plus Test - Explorative Setting', 'ES-comma Test - Explorative Setting']\n",
    "    \"\"\"\n",
    "\n",
    "    alg_list = []\n",
    "    alg_tags = []\n",
    "    \n",
    "    for exp in run_names:\n",
    "        df, alg_tag = wandb_api(exp)\n",
    "        #plot_acc_div(df, exp)\n",
    "        alg_list.append(df)\n",
    "        alg_tags.append(alg_tag)\n",
    "\n",
    "    #plot_acc_div(alg_list, run_names, 'CORA-GCN')\n",
    "    comparison_plot(alg_tags, 'CORA-GCN')\n",
    "    \n",
    "    \n",
    "\n",
    "if __name__ == '__main__':\n",
    "    list_name = ['Ste_test_CORA-GCN_GA-Exploitative', 'CORA-GCN_GA-Neutral', 'CORA-GCN_GA-Explorative', 'CORA-GCN_DE-Exploitative', \n",
    "                 'CORA-GCN_DE-Neutral', 'CORA-GCN_DE-Explorative', 'CORA-GCN_ES-comma', 'CORA-GCN_ES-plus', 'CORA-GCN_CMA-ES', 'CORA-GCN_PSO-Social', 'CORA-GCN_PSO', 'CORA-GCN_PSO-Cognitive']\n",
    "\n",
    "    main(list_name)"
   ]
  },
  {
   "cell_type": "code",
   "execution_count": 82,
   "metadata": {},
   "outputs": [
    {
     "name": "stdout",
     "output_type": "stream",
     "text": [
      "0.82\n",
      "0.814\n",
      "0.808\n",
      "0.8\n",
      "0.814\n",
      "0.812\n",
      "0.808\n",
      "0.8\n",
      "0.814\n",
      "0.809\n",
      "0.806\n",
      "0.803\n"
     ]
    },
    {
     "data": {
      "image/png": "[encoded data removed]",
      "text/plain": [
       "<Figure size 1296x648 with 1 Axes>"
      ]
     },
     "metadata": {
      "needs_background": "light"
     },
     "output_type": "display_data"
    }
   ],
   "source": [
    "labels = df_final.Tag.unique()\n",
    "\n",
    "x = np.arange(len(labels))\n",
    "width = 0.1\n",
    "\n",
    "fig, ax = plt.subplots(figsize=(18,9))\n",
    "\n",
    "for i, tag in enumerate(labels):\n",
    "    df_small = df_final.loc[df_final.Tag == tag, :]\n",
    "    count = 0\n",
    "    for alg in df_small.values:\n",
    "        if count == 0:\n",
    "            rect1 = ax.bar(x[i] - 1.5*width, alg[2], width, label=alg[0])\n",
    "        elif count == 1:\n",
    "            rect2 = ax.bar(x[i] - width/2, alg[2], width, label=alg[0])\n",
    "        elif count == 2:\n",
    "            rect3 = ax.bar(x[i] + width/2, alg[2], width, label=alg[0])\n",
    "        else:\n",
    "            rect4 = ax.bar(x[i] + 1.5*width, alg[2], width, label=alg[0])\n",
    "        count += 1\n",
    "\n",
    "# Add some text for labels, title and custom x-axis tick labels, etc.\n",
    "ax.set_ylabel('Accuracy')\n",
    "ax.set_title('Comparison EAs')\n",
    "ax.set_xticks(x, labels)\n",
    "ax.set_ylim(0.78, 0.83)\n",
    "ax.legend()\n",
    "\n",
    "fig.tight_layout()\n",
    "\n",
    "plt.show()\n"
   ]
  },
  {
   "cell_type": "code",
   "execution_count": null,
   "metadata": {},
   "outputs": [],
   "source": [
    "import matplotlib.pyplot as plt\n",
    "import numpy as np\n",
    "\n",
    "\n",
    "labels = ['G1', 'G2', 'G3', 'G4', 'G5']\n",
    "men_means = [20, 34, 30, 35, 27]\n",
    "women_means = [25, 32, 34, 20, 25]\n",
    "\n",
    "x = np.arange(len(labels))  # the label locations\n",
    "width = 0.35  # the width of the bars\n",
    "\n",
    "fig, ax = plt.subplots()\n",
    "rects1 = ax.bar(x - width/2, men_means, width, label='Men')\n",
    "rects2 = ax.bar(x + width/2, women_means, width, label='Women')\n",
    "\n",
    "# Add some text for labels, title and custom x-axis tick labels, etc.\n",
    "ax.set_ylabel('Scores')\n",
    "ax.set_title('Scores by group and gender')\n",
    "ax.set_xticks(x, labels)\n",
    "ax.legend()\n",
    "\n",
    "ax.bar_label(rects1, padding=3)\n",
    "ax.bar_label(rects2, padding=3)\n",
    "\n",
    "fig.tight_layout()\n",
    "\n",
    "plt.show()"
   ]
  },
  {
   "cell_type": "markdown",
   "metadata": {},
   "source": [
    "### Plot 3"
   ]
  },
  {
   "cell_type": "code",
   "execution_count": 2,
   "metadata": {},
   "outputs": [
    {
     "data": {
      "text/html": [
       "<div>\n",
       "<style scoped>\n",
       "    .dataframe tbody tr th:only-of-type {\n",
       "        vertical-align: middle;\n",
       "    }\n",
       "\n",
       "    .dataframe tbody tr th {\n",
       "        vertical-align: top;\n",
       "    }\n",
       "\n",
       "    .dataframe thead th {\n",
       "        text-align: right;\n",
       "    }\n",
       "</style>\n",
       "<table border=\"1\" class=\"dataframe\">\n",
       "  <thead>\n",
       "    <tr style=\"text-align: right;\">\n",
       "      <th></th>\n",
       "      <th>group_name</th>\n",
       "      <th>Test_Acc</th>\n",
       "      <th>max_epoch</th>\n",
       "      <th>early_stopping</th>\n",
       "      <th>lr</th>\n",
       "      <th>weight_decay</th>\n",
       "      <th>hidden_nodes</th>\n",
       "      <th>dropout</th>\n",
       "      <th>act</th>\n",
       "    </tr>\n",
       "  </thead>\n",
       "  <tbody>\n",
       "    <tr>\n",
       "      <th>42</th>\n",
       "      <td>CORA-GCN_CMA-ES</td>\n",
       "      <td>0.808</td>\n",
       "      <td>181</td>\n",
       "      <td>26</td>\n",
       "      <td>0.046660</td>\n",
       "      <td>0.000170</td>\n",
       "      <td>16</td>\n",
       "      <td>0.800000</td>\n",
       "      <td>tanh</td>\n",
       "    </tr>\n",
       "    <tr>\n",
       "      <th>17</th>\n",
       "      <td>CORA-GCN_DE-Exploitative</td>\n",
       "      <td>0.806</td>\n",
       "      <td>237</td>\n",
       "      <td>15</td>\n",
       "      <td>0.035991</td>\n",
       "      <td>0.000455</td>\n",
       "      <td>14</td>\n",
       "      <td>0.200000</td>\n",
       "      <td>relu</td>\n",
       "    </tr>\n",
       "    <tr>\n",
       "      <th>29</th>\n",
       "      <td>CORA-GCN_DE-Explorative</td>\n",
       "      <td>0.820</td>\n",
       "      <td>221</td>\n",
       "      <td>23</td>\n",
       "      <td>0.024422</td>\n",
       "      <td>0.000163</td>\n",
       "      <td>16</td>\n",
       "      <td>0.800000</td>\n",
       "      <td>relu</td>\n",
       "    </tr>\n",
       "    <tr>\n",
       "      <th>23</th>\n",
       "      <td>CORA-GCN_DE-Neutral</td>\n",
       "      <td>0.800</td>\n",
       "      <td>143</td>\n",
       "      <td>17</td>\n",
       "      <td>0.017965</td>\n",
       "      <td>0.000395</td>\n",
       "      <td>11</td>\n",
       "      <td>0.265132</td>\n",
       "      <td>relu</td>\n",
       "    </tr>\n",
       "    <tr>\n",
       "      <th>31</th>\n",
       "      <td>CORA-GCN_ES-comma</td>\n",
       "      <td>0.808</td>\n",
       "      <td>126</td>\n",
       "      <td>16</td>\n",
       "      <td>0.050000</td>\n",
       "      <td>0.000416</td>\n",
       "      <td>16</td>\n",
       "      <td>0.702171</td>\n",
       "      <td>elu</td>\n",
       "    </tr>\n",
       "    <tr>\n",
       "      <th>38</th>\n",
       "      <td>CORA-GCN_ES-plus</td>\n",
       "      <td>0.809</td>\n",
       "      <td>273</td>\n",
       "      <td>20</td>\n",
       "      <td>0.021078</td>\n",
       "      <td>0.000706</td>\n",
       "      <td>16</td>\n",
       "      <td>0.700890</td>\n",
       "      <td>leaky_relu</td>\n",
       "    </tr>\n",
       "    <tr>\n",
       "      <th>4</th>\n",
       "      <td>CORA-GCN_GA-Exploitative</td>\n",
       "      <td>0.803</td>\n",
       "      <td>272</td>\n",
       "      <td>26</td>\n",
       "      <td>0.040128</td>\n",
       "      <td>0.000576</td>\n",
       "      <td>15</td>\n",
       "      <td>0.758822</td>\n",
       "      <td>leaky_relu</td>\n",
       "    </tr>\n",
       "    <tr>\n",
       "      <th>13</th>\n",
       "      <td>CORA-GCN_GA-Explorative</td>\n",
       "      <td>0.814</td>\n",
       "      <td>212</td>\n",
       "      <td>25</td>\n",
       "      <td>0.013366</td>\n",
       "      <td>0.000827</td>\n",
       "      <td>15</td>\n",
       "      <td>0.754682</td>\n",
       "      <td>elu</td>\n",
       "    </tr>\n",
       "    <tr>\n",
       "      <th>8</th>\n",
       "      <td>CORA-GCN_GA-Neutral</td>\n",
       "      <td>0.814</td>\n",
       "      <td>288</td>\n",
       "      <td>23</td>\n",
       "      <td>0.015894</td>\n",
       "      <td>0.000107</td>\n",
       "      <td>13</td>\n",
       "      <td>0.792738</td>\n",
       "      <td>leaky_relu</td>\n",
       "    </tr>\n",
       "    <tr>\n",
       "      <th>51</th>\n",
       "      <td>CORA-GCN_PSO</td>\n",
       "      <td>0.812</td>\n",
       "      <td>52</td>\n",
       "      <td>20</td>\n",
       "      <td>0.033809</td>\n",
       "      <td>0.001000</td>\n",
       "      <td>16</td>\n",
       "      <td>0.683696</td>\n",
       "      <td>leaky_relu</td>\n",
       "    </tr>\n",
       "    <tr>\n",
       "      <th>55</th>\n",
       "      <td>CORA-GCN_PSO-Cognitive</td>\n",
       "      <td>0.800</td>\n",
       "      <td>104</td>\n",
       "      <td>23</td>\n",
       "      <td>0.017567</td>\n",
       "      <td>0.000618</td>\n",
       "      <td>15</td>\n",
       "      <td>0.666451</td>\n",
       "      <td>relu</td>\n",
       "    </tr>\n",
       "    <tr>\n",
       "      <th>47</th>\n",
       "      <td>CORA-GCN_PSO-Social</td>\n",
       "      <td>0.814</td>\n",
       "      <td>323</td>\n",
       "      <td>138</td>\n",
       "      <td>0.050000</td>\n",
       "      <td>0.001000</td>\n",
       "      <td>16</td>\n",
       "      <td>0.800000</td>\n",
       "      <td>leaky_relu</td>\n",
       "    </tr>\n",
       "  </tbody>\n",
       "</table>\n",
       "</div>"
      ],
      "text/plain": [
       "                  group_name  Test_Acc  max_epoch  early_stopping        lr  \\\n",
       "42           CORA-GCN_CMA-ES     0.808        181              26  0.046660   \n",
       "17  CORA-GCN_DE-Exploitative     0.806        237              15  0.035991   \n",
       "29   CORA-GCN_DE-Explorative     0.820        221              23  0.024422   \n",
       "23       CORA-GCN_DE-Neutral     0.800        143              17  0.017965   \n",
       "31         CORA-GCN_ES-comma     0.808        126              16  0.050000   \n",
       "38          CORA-GCN_ES-plus     0.809        273              20  0.021078   \n",
       "4   CORA-GCN_GA-Exploitative     0.803        272              26  0.040128   \n",
       "13   CORA-GCN_GA-Explorative     0.814        212              25  0.013366   \n",
       "8        CORA-GCN_GA-Neutral     0.814        288              23  0.015894   \n",
       "51              CORA-GCN_PSO     0.812         52              20  0.033809   \n",
       "55    CORA-GCN_PSO-Cognitive     0.800        104              23  0.017567   \n",
       "47       CORA-GCN_PSO-Social     0.814        323             138  0.050000   \n",
       "\n",
       "    weight_decay  hidden_nodes   dropout         act  \n",
       "42      0.000170            16  0.800000        tanh  \n",
       "17      0.000455            14  0.200000        relu  \n",
       "29      0.000163            16  0.800000        relu  \n",
       "23      0.000395            11  0.265132        relu  \n",
       "31      0.000416            16  0.702171         elu  \n",
       "38      0.000706            16  0.700890  leaky_relu  \n",
       "4       0.000576            15  0.758822  leaky_relu  \n",
       "13      0.000827            15  0.754682         elu  \n",
       "8       0.000107            13  0.792738  leaky_relu  \n",
       "51      0.001000            16  0.683696  leaky_relu  \n",
       "55      0.000618            15  0.666451        relu  \n",
       "47      0.001000            16  0.800000  leaky_relu  "
      ]
     },
     "metadata": {},
     "output_type": "display_data"
    }
   ],
   "source": [
    "df_original = pd.read_csv('Bio-AI_runs.csv')\n",
    "\n",
    "df_final = df_original.loc[df_original.groupby(\"group_name\")[\"Test_Acc\"].idxmax()]\n",
    "df_final.drop('num_layers', axis=1, inplace=True)\n",
    "\n",
    "display(df_final)\n",
    "\n",
    "\n",
    "\n"
   ]
  },
  {
   "cell_type": "code",
   "execution_count": 96,
   "metadata": {},
   "outputs": [
    {
     "data": {
      "text/html": [
       "<div>\n",
       "<style scoped>\n",
       "    .dataframe tbody tr th:only-of-type {\n",
       "        vertical-align: middle;\n",
       "    }\n",
       "\n",
       "    .dataframe tbody tr th {\n",
       "        vertical-align: top;\n",
       "    }\n",
       "\n",
       "    .dataframe thead th {\n",
       "        text-align: right;\n",
       "    }\n",
       "</style>\n",
       "<table border=\"1\" class=\"dataframe\">\n",
       "  <thead>\n",
       "    <tr style=\"text-align: right;\">\n",
       "      <th></th>\n",
       "      <th>sepal length (cm)</th>\n",
       "      <th>sepal width (cm)</th>\n",
       "      <th>petal length (cm)</th>\n",
       "      <th>petal width (cm)</th>\n",
       "      <th>target</th>\n",
       "    </tr>\n",
       "  </thead>\n",
       "  <tbody>\n",
       "    <tr>\n",
       "      <th>0</th>\n",
       "      <td>5.1</td>\n",
       "      <td>3.5</td>\n",
       "      <td>1.4</td>\n",
       "      <td>0.2</td>\n",
       "      <td>0.0</td>\n",
       "    </tr>\n",
       "    <tr>\n",
       "      <th>1</th>\n",
       "      <td>4.9</td>\n",
       "      <td>3.0</td>\n",
       "      <td>1.4</td>\n",
       "      <td>0.2</td>\n",
       "      <td>0.0</td>\n",
       "    </tr>\n",
       "    <tr>\n",
       "      <th>2</th>\n",
       "      <td>4.7</td>\n",
       "      <td>3.2</td>\n",
       "      <td>1.3</td>\n",
       "      <td>0.2</td>\n",
       "      <td>0.0</td>\n",
       "    </tr>\n",
       "    <tr>\n",
       "      <th>3</th>\n",
       "      <td>4.6</td>\n",
       "      <td>3.1</td>\n",
       "      <td>1.5</td>\n",
       "      <td>0.2</td>\n",
       "      <td>0.0</td>\n",
       "    </tr>\n",
       "    <tr>\n",
       "      <th>4</th>\n",
       "      <td>5.0</td>\n",
       "      <td>3.6</td>\n",
       "      <td>1.4</td>\n",
       "      <td>0.2</td>\n",
       "      <td>0.0</td>\n",
       "    </tr>\n",
       "    <tr>\n",
       "      <th>...</th>\n",
       "      <td>...</td>\n",
       "      <td>...</td>\n",
       "      <td>...</td>\n",
       "      <td>...</td>\n",
       "      <td>...</td>\n",
       "    </tr>\n",
       "    <tr>\n",
       "      <th>145</th>\n",
       "      <td>6.7</td>\n",
       "      <td>3.0</td>\n",
       "      <td>5.2</td>\n",
       "      <td>2.3</td>\n",
       "      <td>2.0</td>\n",
       "    </tr>\n",
       "    <tr>\n",
       "      <th>146</th>\n",
       "      <td>6.3</td>\n",
       "      <td>2.5</td>\n",
       "      <td>5.0</td>\n",
       "      <td>1.9</td>\n",
       "      <td>2.0</td>\n",
       "    </tr>\n",
       "    <tr>\n",
       "      <th>147</th>\n",
       "      <td>6.5</td>\n",
       "      <td>3.0</td>\n",
       "      <td>5.2</td>\n",
       "      <td>2.0</td>\n",
       "      <td>2.0</td>\n",
       "    </tr>\n",
       "    <tr>\n",
       "      <th>148</th>\n",
       "      <td>6.2</td>\n",
       "      <td>3.4</td>\n",
       "      <td>5.4</td>\n",
       "      <td>2.3</td>\n",
       "      <td>2.0</td>\n",
       "    </tr>\n",
       "    <tr>\n",
       "      <th>149</th>\n",
       "      <td>5.9</td>\n",
       "      <td>3.0</td>\n",
       "      <td>5.1</td>\n",
       "      <td>1.8</td>\n",
       "      <td>2.0</td>\n",
       "    </tr>\n",
       "  </tbody>\n",
       "</table>\n",
       "<p>150 rows × 5 columns</p>\n",
       "</div>"
      ],
      "text/plain": [
       "     sepal length (cm)  sepal width (cm)  petal length (cm)  petal width (cm)  \\\n",
       "0                  5.1               3.5                1.4               0.2   \n",
       "1                  4.9               3.0                1.4               0.2   \n",
       "2                  4.7               3.2                1.3               0.2   \n",
       "3                  4.6               3.1                1.5               0.2   \n",
       "4                  5.0               3.6                1.4               0.2   \n",
       "..                 ...               ...                ...               ...   \n",
       "145                6.7               3.0                5.2               2.3   \n",
       "146                6.3               2.5                5.0               1.9   \n",
       "147                6.5               3.0                5.2               2.0   \n",
       "148                6.2               3.4                5.4               2.3   \n",
       "149                5.9               3.0                5.1               1.8   \n",
       "\n",
       "     target  \n",
       "0       0.0  \n",
       "1       0.0  \n",
       "2       0.0  \n",
       "3       0.0  \n",
       "4       0.0  \n",
       "..      ...  \n",
       "145     2.0  \n",
       "146     2.0  \n",
       "147     2.0  \n",
       "148     2.0  \n",
       "149     2.0  \n",
       "\n",
       "[150 rows x 5 columns]"
      ]
     },
     "metadata": {},
     "output_type": "display_data"
    },
    {
     "name": "stdout",
     "output_type": "stream",
     "text": [
      "['setosa' 'versicolor' 'virginica']\n"
     ]
    },
    {
     "name": "stderr",
     "output_type": "stream",
     "text": [
      "c:\\Users\\flori\\anaconda3\\envs\\bio_venv\\lib\\site-packages\\paxplot\\core.py:839: Warning: The function you have called (set_tight_layout) is not officially supported by Paxplot, but it may still work. Report issues to https://github.com/kravitsjacob/paxplot/issues\n",
      "  warnings.warn(\n",
      "c:\\Users\\flori\\anaconda3\\envs\\bio_venv\\lib\\site-packages\\paxplot\\core.py:839: Warning: The function you have called (set_canvas) is not officially supported by Paxplot, but it may still work. Report issues to https://github.com/kravitsjacob/paxplot/issues\n",
      "  warnings.warn(\n"
     ]
    },
    {
     "data": {
      "image/png": "[encoded data removed]",
      "text/plain": [
       "<PaxFigure size 432x288 with 7 Axes>"
      ]
     },
     "metadata": {
      "needs_background": "light"
     },
     "output_type": "display_data"
    }
   ],
   "source": [
    "import pandas as pd\n",
    "import matplotlib.pyplot as plt\n",
    "import numpy as np\n",
    "from sklearn.datasets import load_iris\n",
    "import paxplot\n",
    "from matplotlib.pyplot import figure\n",
    "\n",
    "# Import data\n",
    "iris = load_iris(as_frame=True)\n",
    "df = pd.DataFrame(\n",
    "    data=np.c_[iris['data'], iris['target']],\n",
    "    columns=iris['feature_names'] + ['target']\n",
    ")\n",
    "\n",
    "display(df)\n",
    "cols = df.columns\n",
    "print(iris.target_names)\n",
    "\n",
    "# Create figure\n",
    "paxfig = paxplot.pax_parallel(n_axes=len(cols))\n",
    "paxfig.plot(df.to_numpy())\n",
    "\n",
    "# Add labels\n",
    "paxfig.set_labels(cols)\n",
    "\n",
    "# Set ticks\n",
    "paxfig.set_ticks(\n",
    "    ax_idx=-1,\n",
    "    ticks=[0, 1, 2],\n",
    "    labels=iris.target_names\n",
    ")\n",
    "\n",
    "# Add colorbar\n",
    "color_col = 0\n",
    "paxfig.add_colorbar(\n",
    "    ax_idx=color_col,\n",
    "    cmap='viridis',\n",
    "    colorbar_kwargs={'label': cols[color_col]}\n",
    ")\n",
    "\n",
    "\n",
    "plt.show()"
   ]
  },
  {
   "cell_type": "code",
   "execution_count": 104,
   "metadata": {},
   "outputs": [
    {
     "data": {
      "text/plain": [
       "array([['CORA-GCN_CMA-ES', 0.808, 181, 26, 0.0466599931134837,\n",
       "        0.0001699397551402, 16, 0.8, 'tanh'],\n",
       "       ['CORA-GCN_DE-Exploitative', 0.806, 237, 15, 0.0359906590741531,\n",
       "        0.0004546736692919, 14, 0.2, 'relu'],\n",
       "       ['CORA-GCN_DE-Explorative', 0.82, 221, 23, 0.024421638937687,\n",
       "        0.0001625630153618, 16, 0.8, 'relu'],\n",
       "       ['CORA-GCN_DE-Neutral', 0.8, 143, 17, 0.0179652590500893,\n",
       "        0.0003950135651084, 11, 0.2651318288143403, 'relu'],\n",
       "       ['CORA-GCN_ES-comma', 0.808, 126, 16, 0.05, 0.0004159558142815,\n",
       "        16, 0.7021706697586738, 'elu'],\n",
       "       ['CORA-GCN_ES-plus', 0.809, 273, 20, 0.0210777254668637,\n",
       "        0.0007061396467404, 16, 0.70088969956713, 'leaky_relu'],\n",
       "       ['CORA-GCN_GA-Exploitative', 0.803, 272, 26, 0.0401276198012467,\n",
       "        0.0005762443501204, 15, 0.7588220330212376, 'leaky_relu'],\n",
       "       ['CORA-GCN_GA-Explorative', 0.814, 212, 25, 0.013365624201537,\n",
       "        0.0008270922969638, 15, 0.7546823641568057, 'elu'],\n",
       "       ['CORA-GCN_GA-Neutral', 0.814, 288, 23, 0.0158939005624133,\n",
       "        0.0001074800938418, 13, 0.792738300742915, 'leaky_relu'],\n",
       "       ['CORA-GCN_PSO', 0.812, 52, 20, 0.0338085580862314, 0.001, 16,\n",
       "        0.6836957392114669, 'leaky_relu'],\n",
       "       ['CORA-GCN_PSO-Cognitive', 0.8, 104, 23, 0.0175669117221144,\n",
       "        0.0006177567653296, 15, 0.6664506088977782, 'relu'],\n",
       "       ['CORA-GCN_PSO-Social', 0.814, 323, 138, 0.05, 0.001, 16, 0.8,\n",
       "        'leaky_relu']], dtype=object)"
      ]
     },
     "execution_count": 104,
     "metadata": {},
     "output_type": "execute_result"
    }
   ],
   "source": [
    "df_final.to_numpy()"
   ]
  },
  {
   "cell_type": "code",
   "execution_count": 110,
   "metadata": {},
   "outputs": [
    {
     "data": {
      "text/html": [
       "<div>\n",
       "<style scoped>\n",
       "    .dataframe tbody tr th:only-of-type {\n",
       "        vertical-align: middle;\n",
       "    }\n",
       "\n",
       "    .dataframe tbody tr th {\n",
       "        vertical-align: top;\n",
       "    }\n",
       "\n",
       "    .dataframe thead th {\n",
       "        text-align: right;\n",
       "    }\n",
       "</style>\n",
       "<table border=\"1\" class=\"dataframe\">\n",
       "  <thead>\n",
       "    <tr style=\"text-align: right;\">\n",
       "      <th></th>\n",
       "      <th>group_name</th>\n",
       "      <th>Test_Acc</th>\n",
       "      <th>max_epoch</th>\n",
       "      <th>early_stopping</th>\n",
       "      <th>lr</th>\n",
       "      <th>weight_decay</th>\n",
       "      <th>hidden_nodes</th>\n",
       "      <th>dropout</th>\n",
       "      <th>act</th>\n",
       "    </tr>\n",
       "  </thead>\n",
       "  <tbody>\n",
       "    <tr>\n",
       "      <th>42</th>\n",
       "      <td>CORA-GCN_CMA-ES</td>\n",
       "      <td>0.808</td>\n",
       "      <td>181</td>\n",
       "      <td>26</td>\n",
       "      <td>0.046660</td>\n",
       "      <td>0.000170</td>\n",
       "      <td>16</td>\n",
       "      <td>0.800000</td>\n",
       "      <td>tanh</td>\n",
       "    </tr>\n",
       "    <tr>\n",
       "      <th>17</th>\n",
       "      <td>CORA-GCN_DE-Exploitative</td>\n",
       "      <td>0.806</td>\n",
       "      <td>237</td>\n",
       "      <td>15</td>\n",
       "      <td>0.035991</td>\n",
       "      <td>0.000455</td>\n",
       "      <td>14</td>\n",
       "      <td>0.200000</td>\n",
       "      <td>relu</td>\n",
       "    </tr>\n",
       "    <tr>\n",
       "      <th>29</th>\n",
       "      <td>CORA-GCN_DE-Explorative</td>\n",
       "      <td>0.820</td>\n",
       "      <td>221</td>\n",
       "      <td>23</td>\n",
       "      <td>0.024422</td>\n",
       "      <td>0.000163</td>\n",
       "      <td>16</td>\n",
       "      <td>0.800000</td>\n",
       "      <td>relu</td>\n",
       "    </tr>\n",
       "    <tr>\n",
       "      <th>23</th>\n",
       "      <td>CORA-GCN_DE-Neutral</td>\n",
       "      <td>0.800</td>\n",
       "      <td>143</td>\n",
       "      <td>17</td>\n",
       "      <td>0.017965</td>\n",
       "      <td>0.000395</td>\n",
       "      <td>11</td>\n",
       "      <td>0.265132</td>\n",
       "      <td>relu</td>\n",
       "    </tr>\n",
       "    <tr>\n",
       "      <th>31</th>\n",
       "      <td>CORA-GCN_ES-comma</td>\n",
       "      <td>0.808</td>\n",
       "      <td>126</td>\n",
       "      <td>16</td>\n",
       "      <td>0.050000</td>\n",
       "      <td>0.000416</td>\n",
       "      <td>16</td>\n",
       "      <td>0.702171</td>\n",
       "      <td>elu</td>\n",
       "    </tr>\n",
       "    <tr>\n",
       "      <th>38</th>\n",
       "      <td>CORA-GCN_ES-plus</td>\n",
       "      <td>0.809</td>\n",
       "      <td>273</td>\n",
       "      <td>20</td>\n",
       "      <td>0.021078</td>\n",
       "      <td>0.000706</td>\n",
       "      <td>16</td>\n",
       "      <td>0.700890</td>\n",
       "      <td>leaky_relu</td>\n",
       "    </tr>\n",
       "    <tr>\n",
       "      <th>4</th>\n",
       "      <td>CORA-GCN_GA-Exploitative</td>\n",
       "      <td>0.803</td>\n",
       "      <td>272</td>\n",
       "      <td>26</td>\n",
       "      <td>0.040128</td>\n",
       "      <td>0.000576</td>\n",
       "      <td>15</td>\n",
       "      <td>0.758822</td>\n",
       "      <td>leaky_relu</td>\n",
       "    </tr>\n",
       "    <tr>\n",
       "      <th>13</th>\n",
       "      <td>CORA-GCN_GA-Explorative</td>\n",
       "      <td>0.814</td>\n",
       "      <td>212</td>\n",
       "      <td>25</td>\n",
       "      <td>0.013366</td>\n",
       "      <td>0.000827</td>\n",
       "      <td>15</td>\n",
       "      <td>0.754682</td>\n",
       "      <td>elu</td>\n",
       "    </tr>\n",
       "    <tr>\n",
       "      <th>8</th>\n",
       "      <td>CORA-GCN_GA-Neutral</td>\n",
       "      <td>0.814</td>\n",
       "      <td>288</td>\n",
       "      <td>23</td>\n",
       "      <td>0.015894</td>\n",
       "      <td>0.000107</td>\n",
       "      <td>13</td>\n",
       "      <td>0.792738</td>\n",
       "      <td>leaky_relu</td>\n",
       "    </tr>\n",
       "    <tr>\n",
       "      <th>51</th>\n",
       "      <td>CORA-GCN_PSO</td>\n",
       "      <td>0.812</td>\n",
       "      <td>52</td>\n",
       "      <td>20</td>\n",
       "      <td>0.033809</td>\n",
       "      <td>0.001000</td>\n",
       "      <td>16</td>\n",
       "      <td>0.683696</td>\n",
       "      <td>leaky_relu</td>\n",
       "    </tr>\n",
       "    <tr>\n",
       "      <th>55</th>\n",
       "      <td>CORA-GCN_PSO-Cognitive</td>\n",
       "      <td>0.800</td>\n",
       "      <td>104</td>\n",
       "      <td>23</td>\n",
       "      <td>0.017567</td>\n",
       "      <td>0.000618</td>\n",
       "      <td>15</td>\n",
       "      <td>0.666451</td>\n",
       "      <td>relu</td>\n",
       "    </tr>\n",
       "    <tr>\n",
       "      <th>47</th>\n",
       "      <td>CORA-GCN_PSO-Social</td>\n",
       "      <td>0.814</td>\n",
       "      <td>323</td>\n",
       "      <td>138</td>\n",
       "      <td>0.050000</td>\n",
       "      <td>0.001000</td>\n",
       "      <td>16</td>\n",
       "      <td>0.800000</td>\n",
       "      <td>leaky_relu</td>\n",
       "    </tr>\n",
       "  </tbody>\n",
       "</table>\n",
       "</div>"
      ],
      "text/plain": [
       "                  group_name  Test_Acc  max_epoch  early_stopping        lr  weight_decay  hidden_nodes   dropout         act\n",
       "42           CORA-GCN_CMA-ES     0.808        181              26  0.046660      0.000170            16  0.800000        tanh\n",
       "17  CORA-GCN_DE-Exploitative     0.806        237              15  0.035991      0.000455            14  0.200000        relu\n",
       "29   CORA-GCN_DE-Explorative     0.820        221              23  0.024422      0.000163            16  0.800000        relu\n",
       "23       CORA-GCN_DE-Neutral     0.800        143              17  0.017965      0.000395            11  0.265132        relu\n",
       "31         CORA-GCN_ES-comma     0.808        126              16  0.050000      0.000416            16  0.702171         elu\n",
       "38          CORA-GCN_ES-plus     0.809        273              20  0.021078      0.000706            16  0.700890  leaky_relu\n",
       "4   CORA-GCN_GA-Exploitative     0.803        272              26  0.040128      0.000576            15  0.758822  leaky_relu\n",
       "13   CORA-GCN_GA-Explorative     0.814        212              25  0.013366      0.000827            15  0.754682         elu\n",
       "8        CORA-GCN_GA-Neutral     0.814        288              23  0.015894      0.000107            13  0.792738  leaky_relu\n",
       "51              CORA-GCN_PSO     0.812         52              20  0.033809      0.001000            16  0.683696  leaky_relu\n",
       "55    CORA-GCN_PSO-Cognitive     0.800        104              23  0.017567      0.000618            15  0.666451        relu\n",
       "47       CORA-GCN_PSO-Social     0.814        323             138  0.050000      0.001000            16  0.800000  leaky_relu"
      ]
     },
     "metadata": {},
     "output_type": "display_data"
    }
   ],
   "source": [
    "\"\"\"import plotly.express as px\n",
    "fig = px.parallel_coordinates(df_final, color=\"Test_Acc\")\n",
    "fig.show()\"\"\"\n",
    "\n",
    "display(df_final)\n"
   ]
  },
  {
   "cell_type": "code",
   "execution_count": 114,
   "metadata": {},
   "outputs": [
    {
     "data": {
      "text/html": [
       "<div>\n",
       "<style scoped>\n",
       "    .dataframe tbody tr th:only-of-type {\n",
       "        vertical-align: middle;\n",
       "    }\n",
       "\n",
       "    .dataframe tbody tr th {\n",
       "        vertical-align: top;\n",
       "    }\n",
       "\n",
       "    .dataframe thead th {\n",
       "        text-align: right;\n",
       "    }\n",
       "</style>\n",
       "<table border=\"1\" class=\"dataframe\">\n",
       "  <thead>\n",
       "    <tr style=\"text-align: right;\">\n",
       "      <th></th>\n",
       "      <th>group_name</th>\n",
       "      <th>Test_Acc</th>\n",
       "      <th>max_epoch</th>\n",
       "      <th>early_stopping</th>\n",
       "      <th>lr</th>\n",
       "      <th>weight_decay</th>\n",
       "      <th>hidden_nodes</th>\n",
       "      <th>dropout</th>\n",
       "      <th>act</th>\n",
       "    </tr>\n",
       "  </thead>\n",
       "  <tbody>\n",
       "    <tr>\n",
       "      <th>42</th>\n",
       "      <td>CORA-GCN_CMA-ES</td>\n",
       "      <td>0.808</td>\n",
       "      <td>181</td>\n",
       "      <td>26</td>\n",
       "      <td>0.046660</td>\n",
       "      <td>0.000170</td>\n",
       "      <td>16</td>\n",
       "      <td>0.800000</td>\n",
       "      <td>tanh</td>\n",
       "    </tr>\n",
       "    <tr>\n",
       "      <th>17</th>\n",
       "      <td>CORA-GCN_DE-Exploitative</td>\n",
       "      <td>0.806</td>\n",
       "      <td>237</td>\n",
       "      <td>15</td>\n",
       "      <td>0.035991</td>\n",
       "      <td>0.000455</td>\n",
       "      <td>14</td>\n",
       "      <td>0.200000</td>\n",
       "      <td>relu</td>\n",
       "    </tr>\n",
       "    <tr>\n",
       "      <th>29</th>\n",
       "      <td>CORA-GCN_DE-Explorative</td>\n",
       "      <td>0.820</td>\n",
       "      <td>221</td>\n",
       "      <td>23</td>\n",
       "      <td>0.024422</td>\n",
       "      <td>0.000163</td>\n",
       "      <td>16</td>\n",
       "      <td>0.800000</td>\n",
       "      <td>relu</td>\n",
       "    </tr>\n",
       "    <tr>\n",
       "      <th>23</th>\n",
       "      <td>CORA-GCN_DE-Neutral</td>\n",
       "      <td>0.800</td>\n",
       "      <td>143</td>\n",
       "      <td>17</td>\n",
       "      <td>0.017965</td>\n",
       "      <td>0.000395</td>\n",
       "      <td>11</td>\n",
       "      <td>0.265132</td>\n",
       "      <td>relu</td>\n",
       "    </tr>\n",
       "    <tr>\n",
       "      <th>31</th>\n",
       "      <td>CORA-GCN_ES-comma</td>\n",
       "      <td>0.808</td>\n",
       "      <td>126</td>\n",
       "      <td>16</td>\n",
       "      <td>0.050000</td>\n",
       "      <td>0.000416</td>\n",
       "      <td>16</td>\n",
       "      <td>0.702171</td>\n",
       "      <td>elu</td>\n",
       "    </tr>\n",
       "    <tr>\n",
       "      <th>38</th>\n",
       "      <td>CORA-GCN_ES-plus</td>\n",
       "      <td>0.809</td>\n",
       "      <td>273</td>\n",
       "      <td>20</td>\n",
       "      <td>0.021078</td>\n",
       "      <td>0.000706</td>\n",
       "      <td>16</td>\n",
       "      <td>0.700890</td>\n",
       "      <td>leaky_relu</td>\n",
       "    </tr>\n",
       "    <tr>\n",
       "      <th>4</th>\n",
       "      <td>CORA-GCN_GA-Exploitative</td>\n",
       "      <td>0.803</td>\n",
       "      <td>272</td>\n",
       "      <td>26</td>\n",
       "      <td>0.040128</td>\n",
       "      <td>0.000576</td>\n",
       "      <td>15</td>\n",
       "      <td>0.758822</td>\n",
       "      <td>leaky_relu</td>\n",
       "    </tr>\n",
       "    <tr>\n",
       "      <th>13</th>\n",
       "      <td>CORA-GCN_GA-Explorative</td>\n",
       "      <td>0.814</td>\n",
       "      <td>212</td>\n",
       "      <td>25</td>\n",
       "      <td>0.013366</td>\n",
       "      <td>0.000827</td>\n",
       "      <td>15</td>\n",
       "      <td>0.754682</td>\n",
       "      <td>elu</td>\n",
       "    </tr>\n",
       "    <tr>\n",
       "      <th>8</th>\n",
       "      <td>CORA-GCN_GA-Neutral</td>\n",
       "      <td>0.814</td>\n",
       "      <td>288</td>\n",
       "      <td>23</td>\n",
       "      <td>0.015894</td>\n",
       "      <td>0.000107</td>\n",
       "      <td>13</td>\n",
       "      <td>0.792738</td>\n",
       "      <td>leaky_relu</td>\n",
       "    </tr>\n",
       "    <tr>\n",
       "      <th>51</th>\n",
       "      <td>CORA-GCN_PSO</td>\n",
       "      <td>0.812</td>\n",
       "      <td>52</td>\n",
       "      <td>20</td>\n",
       "      <td>0.033809</td>\n",
       "      <td>0.001000</td>\n",
       "      <td>16</td>\n",
       "      <td>0.683696</td>\n",
       "      <td>leaky_relu</td>\n",
       "    </tr>\n",
       "    <tr>\n",
       "      <th>55</th>\n",
       "      <td>CORA-GCN_PSO-Cognitive</td>\n",
       "      <td>0.800</td>\n",
       "      <td>104</td>\n",
       "      <td>23</td>\n",
       "      <td>0.017567</td>\n",
       "      <td>0.000618</td>\n",
       "      <td>15</td>\n",
       "      <td>0.666451</td>\n",
       "      <td>relu</td>\n",
       "    </tr>\n",
       "    <tr>\n",
       "      <th>47</th>\n",
       "      <td>CORA-GCN_PSO-Social</td>\n",
       "      <td>0.814</td>\n",
       "      <td>323</td>\n",
       "      <td>138</td>\n",
       "      <td>0.050000</td>\n",
       "      <td>0.001000</td>\n",
       "      <td>16</td>\n",
       "      <td>0.800000</td>\n",
       "      <td>leaky_relu</td>\n",
       "    </tr>\n",
       "  </tbody>\n",
       "</table>\n",
       "</div>"
      ],
      "text/plain": [
       "                  group_name  Test_Acc  max_epoch  early_stopping        lr  weight_decay  hidden_nodes   dropout         act\n",
       "42           CORA-GCN_CMA-ES     0.808        181              26  0.046660      0.000170            16  0.800000        tanh\n",
       "17  CORA-GCN_DE-Exploitative     0.806        237              15  0.035991      0.000455            14  0.200000        relu\n",
       "29   CORA-GCN_DE-Explorative     0.820        221              23  0.024422      0.000163            16  0.800000        relu\n",
       "23       CORA-GCN_DE-Neutral     0.800        143              17  0.017965      0.000395            11  0.265132        relu\n",
       "31         CORA-GCN_ES-comma     0.808        126              16  0.050000      0.000416            16  0.702171         elu\n",
       "38          CORA-GCN_ES-plus     0.809        273              20  0.021078      0.000706            16  0.700890  leaky_relu\n",
       "4   CORA-GCN_GA-Exploitative     0.803        272              26  0.040128      0.000576            15  0.758822  leaky_relu\n",
       "13   CORA-GCN_GA-Explorative     0.814        212              25  0.013366      0.000827            15  0.754682         elu\n",
       "8        CORA-GCN_GA-Neutral     0.814        288              23  0.015894      0.000107            13  0.792738  leaky_relu\n",
       "51              CORA-GCN_PSO     0.812         52              20  0.033809      0.001000            16  0.683696  leaky_relu\n",
       "55    CORA-GCN_PSO-Cognitive     0.800        104              23  0.017567      0.000618            15  0.666451        relu\n",
       "47       CORA-GCN_PSO-Social     0.814        323             138  0.050000      0.001000            16  0.800000  leaky_relu"
      ]
     },
     "metadata": {},
     "output_type": "display_data"
    }
   ],
   "source": [
    "display(df_final)"
   ]
  },
  {
   "cell_type": "code",
   "execution_count": 9,
   "metadata": {},
   "outputs": [
    {
     "data": {
      "application/vnd.plotly.v1+json": {
       "config": {
        "plotlyServerURL": "https://plot.ly"
       },
       "data": [
        {
         "dimensions": [
          {
           "label": "group_name",
           "ticktext": [
            "CORA-GCN_CMA-ES",
            "CORA-GCN_DE-Exploitative",
            "CORA-GCN_DE-Explorative",
            "CORA-GCN_DE-Neutral",
            "CORA-GCN_ES-comma",
            "CORA-GCN_ES-plus",
            "CORA-GCN_GA-Exploitative",
            "CORA-GCN_GA-Explorative",
            "CORA-GCN_GA-Neutral",
            "CORA-GCN_PSO",
            "CORA-GCN_PSO-Cognitive",
            "CORA-GCN_PSO-Social"
           ],
           "tickvals": [
            0,
            1,
            2,
            3,
            4,
            5,
            6,
            7,
            8,
            9,
            10,
            11
           ],
           "values": [
            0,
            1,
            2,
            3,
            4,
            5,
            6,
            7,
            8,
            9,
            10,
            11
           ]
          },
          {
           "label": "Test_Acc",
           "range": [
            0.8,
            0.82
           ],
           "values": [
            0.808,
            0.806,
            0.82,
            0.8,
            0.808,
            0.809,
            0.803,
            0.814,
            0.814,
            0.812,
            0.8,
            0.814
           ]
          },
          {
           "label": "max_epoch",
           "range": [
            52,
            323
           ],
           "values": [
            181,
            237,
            221,
            143,
            126,
            273,
            272,
            212,
            288,
            52,
            104,
            323
           ]
          },
          {
           "label": "early_stopping",
           "range": [
            15,
            138
           ],
           "values": [
            26,
            15,
            23,
            17,
            16,
            20,
            26,
            25,
            23,
            20,
            23,
            138
           ]
          },
          {
           "label": "lr",
           "range": [
            0.013365624201537,
            0.05
           ],
           "values": [
            0.0466599931134837,
            0.0359906590741531,
            0.024421638937687,
            0.0179652590500893,
            0.05,
            0.0210777254668637,
            0.0401276198012467,
            0.013365624201537,
            0.0158939005624133,
            0.0338085580862314,
            0.0175669117221144,
            0.05
           ]
          },
          {
           "label": "weight_decay",
           "range": [
            0.0001074800938418,
            0.001
           ],
           "values": [
            0.0001699397551402,
            0.0004546736692919,
            0.0001625630153618,
            0.0003950135651084,
            0.0004159558142815,
            0.0007061396467404,
            0.0005762443501204,
            0.0008270922969638,
            0.0001074800938418,
            0.001,
            0.0006177567653296,
            0.001
           ]
          },
          {
           "label": "hidden_nodes",
           "range": [
            11,
            16
           ],
           "values": [
            16,
            14,
            16,
            11,
            16,
            16,
            15,
            15,
            13,
            16,
            15,
            16
           ]
          },
          {
           "label": "dropout",
           "range": [
            0.2,
            0.8
           ],
           "values": [
            0.8,
            0.2,
            0.8,
            0.2651318288143403,
            0.7021706697586738,
            0.70088969956713,
            0.7588220330212376,
            0.7546823641568057,
            0.792738300742915,
            0.6836957392114669,
            0.6664506088977782,
            0.8
           ]
          },
          {
           "label": "act",
           "ticktext": [
            "tanh",
            "relu",
            "elu",
            "leaky_relu"
           ],
           "tickvals": [
            0,
            1,
            2,
            3
           ],
           "values": [
            0,
            1,
            1,
            1,
            2,
            3,
            3,
            2,
            3,
            3,
            1,
            3
           ]
          }
         ],
         "line": {
          "color": [
           0.808,
           0.806,
           0.82,
           0.8,
           0.808,
           0.809,
           0.803,
           0.814,
           0.814,
           0.812,
           0.8,
           0.814
          ],
          "colorbar": {
           "title": {
            "text": "Accuracy"
           }
          },
          "showscale": true
         },
         "type": "parcoords"
        }
       ],
       "layout": {
        "template": {
         "data": {
          "bar": [
           {
            "error_x": {
             "color": "#2a3f5f"
            },
            "error_y": {
             "color": "#2a3f5f"
            },
            "marker": {
             "line": {
              "color": "#E5ECF6",
              "width": 0.5
             },
             "pattern": {
              "fillmode": "overlay",
              "size": 10,
              "solidity": 0.2
             }
            },
            "type": "bar"
           }
          ],
          "barpolar": [
           {
            "marker": {
             "line": {
              "color": "#E5ECF6",
              "width": 0.5
             },
             "pattern": {
              "fillmode": "overlay",
              "size": 10,
              "solidity": 0.2
             }
            },
            "type": "barpolar"
           }
          ],
          "carpet": [
           {
            "aaxis": {
             "endlinecolor": "#2a3f5f",
             "gridcolor": "white",
             "linecolor": "white",
             "minorgridcolor": "white",
             "startlinecolor": "#2a3f5f"
            },
            "baxis": {
             "endlinecolor": "#2a3f5f",
             "gridcolor": "white",
             "linecolor": "white",
             "minorgridcolor": "white",
             "startlinecolor": "#2a3f5f"
            },
            "type": "carpet"
           }
          ],
          "choropleth": [
           {
            "colorbar": {
             "outlinewidth": 0,
             "ticks": ""
            },
            "type": "choropleth"
           }
          ],
          "contour": [
           {
            "colorbar": {
             "outlinewidth": 0,
             "ticks": ""
            },
            "colorscale": [
             [
              0,
              "#0d0887"
             ],
             [
              0.1111111111111111,
              "#46039f"
             ],
             [
              0.2222222222222222,
              "#7201a8"
             ],
             [
              0.3333333333333333,
              "#9c179e"
             ],
             [
              0.4444444444444444,
              "#bd3786"
             ],
             [
              0.5555555555555556,
              "#d8576b"
             ],
             [
              0.6666666666666666,
              "#ed7953"
             ],
             [
              0.7777777777777778,
              "#fb9f3a"
             ],
             [
              0.8888888888888888,
              "#fdca26"
             ],
             [
              1,
              "#f0f921"
             ]
            ],
            "type": "contour"
           }
          ],
          "contourcarpet": [
           {
            "colorbar": {
             "outlinewidth": 0,
             "ticks": ""
            },
            "type": "contourcarpet"
           }
          ],
          "heatmap": [
           {
            "colorbar": {
             "outlinewidth": 0,
             "ticks": ""
            },
            "colorscale": [
             [
              0,
              "#0d0887"
             ],
             [
              0.1111111111111111,
              "#46039f"
             ],
             [
              0.2222222222222222,
              "#7201a8"
             ],
             [
              0.3333333333333333,
              "#9c179e"
             ],
             [
              0.4444444444444444,
              "#bd3786"
             ],
             [
              0.5555555555555556,
              "#d8576b"
             ],
             [
              0.6666666666666666,
              "#ed7953"
             ],
             [
              0.7777777777777778,
              "#fb9f3a"
             ],
             [
              0.8888888888888888,
              "#fdca26"
             ],
             [
              1,
              "#f0f921"
             ]
            ],
            "type": "heatmap"
           }
          ],
          "heatmapgl": [
           {
            "colorbar": {
             "outlinewidth": 0,
             "ticks": ""
            },
            "colorscale": [
             [
              0,
              "#0d0887"
             ],
             [
              0.1111111111111111,
              "#46039f"
             ],
             [
              0.2222222222222222,
              "#7201a8"
             ],
             [
              0.3333333333333333,
              "#9c179e"
             ],
             [
              0.4444444444444444,
              "#bd3786"
             ],
             [
              0.5555555555555556,
              "#d8576b"
             ],
             [
              0.6666666666666666,
              "#ed7953"
             ],
             [
              0.7777777777777778,
              "#fb9f3a"
             ],
             [
              0.8888888888888888,
              "#fdca26"
             ],
             [
              1,
              "#f0f921"
             ]
            ],
            "type": "heatmapgl"
           }
          ],
          "histogram": [
           {
            "marker": {
             "pattern": {
              "fillmode": "overlay",
              "size": 10,
              "solidity": 0.2
             }
            },
            "type": "histogram"
           }
          ],
          "histogram2d": [
           {
            "colorbar": {
             "outlinewidth": 0,
             "ticks": ""
            },
            "colorscale": [
             [
              0,
              "#0d0887"
             ],
             [
              0.1111111111111111,
              "#46039f"
             ],
             [
              0.2222222222222222,
              "#7201a8"
             ],
             [
              0.3333333333333333,
              "#9c179e"
             ],
             [
              0.4444444444444444,
              "#bd3786"
             ],
             [
              0.5555555555555556,
              "#d8576b"
             ],
             [
              0.6666666666666666,
              "#ed7953"
             ],
             [
              0.7777777777777778,
              "#fb9f3a"
             ],
             [
              0.8888888888888888,
              "#fdca26"
             ],
             [
              1,
              "#f0f921"
             ]
            ],
            "type": "histogram2d"
           }
          ],
          "histogram2dcontour": [
           {
            "colorbar": {
             "outlinewidth": 0,
             "ticks": ""
            },
            "colorscale": [
             [
              0,
              "#0d0887"
             ],
             [
              0.1111111111111111,
              "#46039f"
             ],
             [
              0.2222222222222222,
              "#7201a8"
             ],
             [
              0.3333333333333333,
              "#9c179e"
             ],
             [
              0.4444444444444444,
              "#bd3786"
             ],
             [
              0.5555555555555556,
              "#d8576b"
             ],
             [
              0.6666666666666666,
              "#ed7953"
             ],
             [
              0.7777777777777778,
              "#fb9f3a"
             ],
             [
              0.8888888888888888,
              "#fdca26"
             ],
             [
              1,
              "#f0f921"
             ]
            ],
            "type": "histogram2dcontour"
           }
          ],
          "mesh3d": [
           {
            "colorbar": {
             "outlinewidth": 0,
             "ticks": ""
            },
            "type": "mesh3d"
           }
          ],
          "parcoords": [
           {
            "line": {
             "colorbar": {
              "outlinewidth": 0,
              "ticks": ""
             }
            },
            "type": "parcoords"
           }
          ],
          "pie": [
           {
            "automargin": true,
            "type": "pie"
           }
          ],
          "scatter": [
           {
            "fillpattern": {
             "fillmode": "overlay",
             "size": 10,
             "solidity": 0.2
            },
            "type": "scatter"
           }
          ],
          "scatter3d": [
           {
            "line": {
             "colorbar": {
              "outlinewidth": 0,
              "ticks": ""
             }
            },
            "marker": {
             "colorbar": {
              "outlinewidth": 0,
              "ticks": ""
             }
            },
            "type": "scatter3d"
           }
          ],
          "scattercarpet": [
           {
            "marker": {
             "colorbar": {
              "outlinewidth": 0,
              "ticks": ""
             }
            },
            "type": "scattercarpet"
           }
          ],
          "scattergeo": [
           {
            "marker": {
             "colorbar": {
              "outlinewidth": 0,
              "ticks": ""
             }
            },
            "type": "scattergeo"
           }
          ],
          "scattergl": [
           {
            "marker": {
             "colorbar": {
              "outlinewidth": 0,
              "ticks": ""
             }
            },
            "type": "scattergl"
           }
          ],
          "scattermapbox": [
           {
            "marker": {
             "colorbar": {
              "outlinewidth": 0,
              "ticks": ""
             }
            },
            "type": "scattermapbox"
           }
          ],
          "scatterpolar": [
           {
            "marker": {
             "colorbar": {
              "outlinewidth": 0,
              "ticks": ""
             }
            },
            "type": "scatterpolar"
           }
          ],
          "scatterpolargl": [
           {
            "marker": {
             "colorbar": {
              "outlinewidth": 0,
              "ticks": ""
             }
            },
            "type": "scatterpolargl"
           }
          ],
          "scatterternary": [
           {
            "marker": {
             "colorbar": {
              "outlinewidth": 0,
              "ticks": ""
             }
            },
            "type": "scatterternary"
           }
          ],
          "surface": [
           {
            "colorbar": {
             "outlinewidth": 0,
             "ticks": ""
            },
            "colorscale": [
             [
              0,
              "#0d0887"
             ],
             [
              0.1111111111111111,
              "#46039f"
             ],
             [
              0.2222222222222222,
              "#7201a8"
             ],
             [
              0.3333333333333333,
              "#9c179e"
             ],
             [
              0.4444444444444444,
              "#bd3786"
             ],
             [
              0.5555555555555556,
              "#d8576b"
             ],
             [
              0.6666666666666666,
              "#ed7953"
             ],
             [
              0.7777777777777778,
              "#fb9f3a"
             ],
             [
              0.8888888888888888,
              "#fdca26"
             ],
             [
              1,
              "#f0f921"
             ]
            ],
            "type": "surface"
           }
          ],
          "table": [
           {
            "cells": {
             "fill": {
              "color": "#EBF0F8"
             },
             "line": {
              "color": "white"
             }
            },
            "header": {
             "fill": {
              "color": "#C8D4E3"
             },
             "line": {
              "color": "white"
             }
            },
            "type": "table"
           }
          ]
         },
         "layout": {
          "annotationdefaults": {
           "arrowcolor": "#2a3f5f",
           "arrowhead": 0,
           "arrowwidth": 1
          },
          "autotypenumbers": "strict",
          "coloraxis": {
           "colorbar": {
            "outlinewidth": 0,
            "ticks": ""
           }
          },
          "colorscale": {
           "diverging": [
            [
             0,
             "#8e0152"
            ],
            [
             0.1,
             "#c51b7d"
            ],
            [
             0.2,
             "#de77ae"
            ],
            [
             0.3,
             "#f1b6da"
            ],
            [
             0.4,
             "#fde0ef"
            ],
            [
             0.5,
             "#f7f7f7"
            ],
            [
             0.6,
             "#e6f5d0"
            ],
            [
             0.7,
             "#b8e186"
            ],
            [
             0.8,
             "#7fbc41"
            ],
            [
             0.9,
             "#4d9221"
            ],
            [
             1,
             "#276419"
            ]
           ],
           "sequential": [
            [
             0,
             "#0d0887"
            ],
            [
             0.1111111111111111,
             "#46039f"
            ],
            [
             0.2222222222222222,
             "#7201a8"
            ],
            [
             0.3333333333333333,
             "#9c179e"
            ],
            [
             0.4444444444444444,
             "#bd3786"
            ],
            [
             0.5555555555555556,
             "#d8576b"
            ],
            [
             0.6666666666666666,
             "#ed7953"
            ],
            [
             0.7777777777777778,
             "#fb9f3a"
            ],
            [
             0.8888888888888888,
             "#fdca26"
            ],
            [
             1,
             "#f0f921"
            ]
           ],
           "sequentialminus": [
            [
             0,
             "#0d0887"
            ],
            [
             0.1111111111111111,
             "#46039f"
            ],
            [
             0.2222222222222222,
             "#7201a8"
            ],
            [
             0.3333333333333333,
             "#9c179e"
            ],
            [
             0.4444444444444444,
             "#bd3786"
            ],
            [
             0.5555555555555556,
             "#d8576b"
            ],
            [
             0.6666666666666666,
             "#ed7953"
            ],
            [
             0.7777777777777778,
             "#fb9f3a"
            ],
            [
             0.8888888888888888,
             "#fdca26"
            ],
            [
             1,
             "#f0f921"
            ]
           ]
          },
          "colorway": [
           "#636efa",
           "#EF553B",
           "#00cc96",
           "#ab63fa",
           "#FFA15A",
           "#19d3f3",
           "#FF6692",
           "#B6E880",
           "#FF97FF",
           "#FECB52"
          ],
          "font": {
           "color": "#2a3f5f"
          },
          "geo": {
           "bgcolor": "white",
           "lakecolor": "white",
           "landcolor": "#E5ECF6",
           "showlakes": true,
           "showland": true,
           "subunitcolor": "white"
          },
          "hoverlabel": {
           "align": "left"
          },
          "hovermode": "closest",
          "mapbox": {
           "style": "light"
          },
          "paper_bgcolor": "white",
          "plot_bgcolor": "#E5ECF6",
          "polar": {
           "angularaxis": {
            "gridcolor": "white",
            "linecolor": "white",
            "ticks": ""
           },
           "bgcolor": "#E5ECF6",
           "radialaxis": {
            "gridcolor": "white",
            "linecolor": "white",
            "ticks": ""
           }
          },
          "scene": {
           "xaxis": {
            "backgroundcolor": "#E5ECF6",
            "gridcolor": "white",
            "gridwidth": 2,
            "linecolor": "white",
            "showbackground": true,
            "ticks": "",
            "zerolinecolor": "white"
           },
           "yaxis": {
            "backgroundcolor": "#E5ECF6",
            "gridcolor": "white",
            "gridwidth": 2,
            "linecolor": "white",
            "showbackground": true,
            "ticks": "",
            "zerolinecolor": "white"
           },
           "zaxis": {
            "backgroundcolor": "#E5ECF6",
            "gridcolor": "white",
            "gridwidth": 2,
            "linecolor": "white",
            "showbackground": true,
            "ticks": "",
            "zerolinecolor": "white"
           }
          },
          "shapedefaults": {
           "line": {
            "color": "#2a3f5f"
           }
          },
          "ternary": {
           "aaxis": {
            "gridcolor": "white",
            "linecolor": "white",
            "ticks": ""
           },
           "baxis": {
            "gridcolor": "white",
            "linecolor": "white",
            "ticks": ""
           },
           "bgcolor": "#E5ECF6",
           "caxis": {
            "gridcolor": "white",
            "linecolor": "white",
            "ticks": ""
           }
          },
          "title": {
           "x": 0.05
          },
          "xaxis": {
           "automargin": true,
           "gridcolor": "white",
           "linecolor": "white",
           "ticks": "",
           "title": {
            "standoff": 15
           },
           "zerolinecolor": "white",
           "zerolinewidth": 2
          },
          "yaxis": {
           "automargin": true,
           "gridcolor": "white",
           "linecolor": "white",
           "ticks": "",
           "title": {
            "standoff": 15
           },
           "zerolinecolor": "white",
           "zerolinewidth": 2
          }
         }
        }
       }
      }
     },
     "metadata": {},
     "output_type": "display_data"
    }
   ],
   "source": [
    "import pandas as pd\n",
    "import plotly.graph_objs as go\n",
    "\n",
    "df_original = pd.read_csv('Bio-AI_runs.csv')\n",
    "\n",
    "df_final = df_original.loc[df_original.groupby(\"group_name\")[\"Test_Acc\"].idxmax()]\n",
    "df_final.drop('num_layers', axis=1, inplace=True)\n",
    "\n",
    "df = df_final.copy()\n",
    "keys = df_final.keys()\n",
    "categorical_columns = ['group_name', 'act']\n",
    "col_list = []\n",
    "\n",
    "for col in df.keys():\n",
    "    if col in categorical_columns:  # categorical columns\n",
    "        values = df[col].unique()\n",
    "        value2dummy = dict(zip(values, range(len(values))))  # works if values are strings, otherwise we probably need to convert them\n",
    "        df[col] = [value2dummy[v] for v in df[col]]\n",
    "        col_dict = dict(\n",
    "            label=col,\n",
    "            tickvals=list(value2dummy.values()),\n",
    "            ticktext=list(value2dummy.keys()),\n",
    "            values=df[col],\n",
    "        )\n",
    "    else:  # continuous columns\n",
    "        col_dict = dict(\n",
    "            range=(df[col].min(), df[col].max()),\n",
    "            label=col,\n",
    "            values=df[col],\n",
    "        )\n",
    "    col_list.append(col_dict)\n",
    "\n",
    "\n",
    "fig = go.Figure(data=go.Parcoords(\n",
    "    line = dict(color = df_final['Test_Acc'],\n",
    "                    colorbar={'title':'Accuracy'},\n",
    "                    showscale=True),\n",
    "    dimensions=col_list))\n",
    "fig.show()"
   ]
  }
 ],
 "metadata": {
  "kernelspec": {
   "display_name": "Python 3.9.12 ('bio_venv')",
   "language": "python",
   "name": "python3"
  },
  "language_info": {
   "codemirror_mode": {
    "name": "ipython",
    "version": 3
   },
   "file_extension": ".py",
   "mimetype": "text/x-python",
   "name": "python",
   "nbconvert_exporter": "python",
   "pygments_lexer": "ipython3",
   "version": "3.9.12"
  },
  "orig_nbformat": 4,
  "vscode": {
   "interpreter": {
    "hash": "7424a89a849aac1be0a2550611626b9160140a7f8d22738c46c6cd4db2a3fe02"
   }
  }
 },
 "nbformat": 4,
 "nbformat_minor": 2
}
